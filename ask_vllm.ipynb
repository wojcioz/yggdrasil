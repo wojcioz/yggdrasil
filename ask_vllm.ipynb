{
 "cells": [
  {
   "cell_type": "code",
   "execution_count": 32,
   "metadata": {},
   "outputs": [],
   "source": [
    "import requests\n",
    "import json\n",
    "\n",
    "# Define the URL of the vllm service\n",
    "url = \"http://localhost:8000/v1/completions\"\n"
   ]
  },
  {
   "cell_type": "code",
   "execution_count": 33,
   "metadata": {},
   "outputs": [],
   "source": [
    "\n",
    "# Define the model name and the prompt\n",
    "model_id = \"/models/Mistral-7B-Instruct-v0.3-quantized.w8a16\"  # Use the full model ID\n",
    "\n",
    "max_tokens = 50"
   ]
  },
  {
   "cell_type": "code",
   "execution_count": 34,
   "metadata": {},
   "outputs": [],
   "source": [
    "\n",
    "# List of different prompts\n",
    "prompts = [\n",
    "    \"What is the capital of France?\",\n",
    "    \"Who wrote 'To Kill a Mockingbird'?\",\n",
    "    \"What is the speed of light?\",\n",
    "    \"How many continents are there?\",\n",
    "    \"What is the largest mammal?\",\n",
    "    \"Who was the first president of the United States?\",\n",
    "    \"What is the boiling point of water?\",\n",
    "    \"What is the chemical symbol for gold?\",\n",
    "    \"Who painted the Mona Lisa?\",\n",
    "    \"What is the tallest mountain in the world?\",\n",
    "    \"What is the smallest country by land area?\",\n",
    "    \"What is the longest river in the world?\",\n",
    "    \"Who discovered penicillin?\",\n",
    "    \"What is the capital of Japan?\",\n",
    "    \"What is the currency of the United Kingdom?\"\n",
    "]"
   ]
  },
  {
   "cell_type": "code",
   "execution_count": 35,
   "metadata": {},
   "outputs": [],
   "source": [
    "\n",
    "# Function to send a request\n",
    "def send_request(prompt):\n",
    "    payload = {\n",
    "        \"model\": model_id,\n",
    "        \"prompt\": prompt,\n",
    "        \"max_tokens\": max_tokens\n",
    "    }\n",
    "    response = requests.post(url, headers={\"Content-Type\": \"application/json\"}, data=json.dumps(payload))\n",
    "    if response.status_code == 200:\n",
    "        print(f\"Prompt: {prompt}\")\n",
    "        print(\"Response:\", response.json())\n",
    "    else:\n",
    "        print(f\"Prompt: {prompt}\")\n",
    "        print(\"Error:\", response.status_code, response.text)\n"
   ]
  },
  {
   "cell_type": "code",
   "execution_count": 36,
   "metadata": {},
   "outputs": [
    {
     "name": "stdout",
     "output_type": "stream",
     "text": [
      "Sending request 1\n",
      "Prompt: What is the capital of France?\n",
      "Response: {'id': 'cmpl-268c01d0327e401d9af8ba67ee3d711d', 'object': 'text_completion', 'created': 1738578625, 'model': '/models/Mistral-7B-Instruct-v0.3-quantized.w8a16', 'choices': [{'index': 0, 'text': '\\n\\nThe capital of France is Paris, a city that is famed for its rich history and culture. Paris is a major global city and a global center for art, fashion, gastronomy, and culture. The city is known for icon', 'logprobs': None, 'finish_reason': 'length', 'stop_reason': None, 'prompt_logprobs': None}], 'usage': {'prompt_tokens': 8, 'total_tokens': 58, 'completion_tokens': 50, 'prompt_tokens_details': None}}\n",
      "Sending request 2\n",
      "Prompt: Who wrote 'To Kill a Mockingbird'?\n",
      "Response: {'id': 'cmpl-2438b12ae2c34147927495552e91d079', 'object': 'text_completion', 'created': 1738578626, 'model': '/models/Mistral-7B-Instruct-v0.3-quantized.w8a16', 'choices': [{'index': 0, 'text': \" The book was written by Harper Lee. It was published in 1960 and has since become a classic work of American literature. The novel is based on the author's experiences growing up in the small town of Monroeville,\", 'logprobs': None, 'finish_reason': 'length', 'stop_reason': None, 'prompt_logprobs': None}], 'usage': {'prompt_tokens': 12, 'total_tokens': 62, 'completion_tokens': 50, 'prompt_tokens_details': None}}\n",
      "Sending request 3\n",
      "Prompt: What is the speed of light?\n",
      "Response: {'id': 'cmpl-882ef22ce9094e8dab52d4702ef921e7', 'object': 'text_completion', 'created': 1738578628, 'model': '/models/Mistral-7B-Instruct-v0.3-quantized.w8a16', 'choices': [{'index': 0, 'text': ' The speed of light has been a subject of interest for centuries, with scientists and philosophers searching for its true value. Today, the speed of light is universally accepted as approximately 299,792 kilometers per second (or', 'logprobs': None, 'finish_reason': 'length', 'stop_reason': None, 'prompt_logprobs': None}], 'usage': {'prompt_tokens': 8, 'total_tokens': 58, 'completion_tokens': 50, 'prompt_tokens_details': None}}\n",
      "Sending request 4\n",
      "Prompt: How many continents are there?\n",
      "Response: {'id': 'cmpl-638064057a9149ce9e67cbb85a6ab6a0', 'object': 'text_completion', 'created': 1738578630, 'model': '/models/Mistral-7B-Instruct-v0.3-quantized.w8a16', 'choices': [{'index': 0, 'text': ' Many people feel pretty confident that there are seven: Africa, Asia, Europe, North America, Oceania (which includes Australia), South America and Antarctica. But for centuries, geographers have debated the question. The traditional', 'logprobs': None, 'finish_reason': 'length', 'stop_reason': None, 'prompt_logprobs': None}], 'usage': {'prompt_tokens': 8, 'total_tokens': 58, 'completion_tokens': 50, 'prompt_tokens_details': None}}\n",
      "Sending request 5\n",
      "Prompt: What is the largest mammal?\n",
      "Response: {'id': 'cmpl-5c83b89f6bc146229ecd8efb12f53d29', 'object': 'text_completion', 'created': 1738578632, 'model': '/models/Mistral-7B-Instruct-v0.3-quantized.w8a16', 'choices': [{'index': 0, 'text': '\\n\\nThe African Elephant is the largest living terrestrial mammal, and uses its  trumpet-like call to communicate with other elephants. The African Elephant is continental in nature and can be found in many African countries', 'logprobs': None, 'finish_reason': 'length', 'stop_reason': None, 'prompt_logprobs': None}], 'usage': {'prompt_tokens': 8, 'total_tokens': 58, 'completion_tokens': 50, 'prompt_tokens_details': None}}\n",
      "Sending request 6\n",
      "Prompt: Who was the first president of the United States?\n",
      "Response: {'id': 'cmpl-b082dc36ef784d5f847dd0835587093e', 'object': 'text_completion', 'created': 1738578636, 'model': '/models/Mistral-7B-Instruct-v0.3-quantized.w8a16', 'choices': [{'index': 0, 'text': ' People in the United States and around the world know the historical answer is George Washington. Although, the incorrect answer that comes to mind as the first president of the United States often is Thomas Jefferson. Inaccuracies throughout American history are not uncommon,', 'logprobs': None, 'finish_reason': 'length', 'stop_reason': None, 'prompt_logprobs': None}], 'usage': {'prompt_tokens': 11, 'total_tokens': 61, 'completion_tokens': 50, 'prompt_tokens_details': None}}\n",
      "Sending request 7\n",
      "Prompt: What is the boiling point of water?\n",
      "Response: {'id': 'cmpl-cb8a259e455d4230a7529cbf69a3cf0d', 'object': 'text_completion', 'created': 1738578638, 'model': '/models/Mistral-7B-Instruct-v0.3-quantized.w8a16', 'choices': [{'index': 0, 'text': ' This seemingly simple question has produced a very interesting debate, a debate that has its roots in science and philosophy. For the scientists, the problem originated with the distinction between what is hot and what is boiling. For the philosophers, on the', 'logprobs': None, 'finish_reason': 'length', 'stop_reason': None, 'prompt_logprobs': None}], 'usage': {'prompt_tokens': 10, 'total_tokens': 60, 'completion_tokens': 50, 'prompt_tokens_details': None}}\n",
      "Sending request 8\n",
      "Prompt: What is the chemical symbol for gold?\n",
      "Response: {'id': 'cmpl-d18c34990eee4708a32bb382684dbb86', 'object': 'text_completion', 'created': 1738578640, 'model': '/models/Mistral-7B-Instruct-v0.3-quantized.w8a16', 'choices': [{'index': 0, 'text': '\\n    Au\\nHow many groups are there in the periodic table?\\n    18\\nWhat is the atomic number of the element Helium?\\n    2\\nWhat is the smallest element on the periodic table?\\n    Hydrogen\\n', 'logprobs': None, 'finish_reason': 'length', 'stop_reason': None, 'prompt_logprobs': None}], 'usage': {'prompt_tokens': 9, 'total_tokens': 59, 'completion_tokens': 50, 'prompt_tokens_details': None}}\n",
      "Sending request 9\n",
      "Prompt: Who painted the Mona Lisa?\n",
      "Response: {'id': 'cmpl-da22ace65ee744098084de1683bc5599', 'object': 'text_completion', 'created': 1738578642, 'model': '/models/Mistral-7B-Instruct-v0.3-quantized.w8a16', 'choices': [{'index': 0, 'text': ' P. Picasso, Leonardo da Vinci, R. Manet, A. Van Gogh.\\n\\nANSWER: Leonardo da Vinci painted the Mona Lisa. Leonardo da Vinci (1452', 'logprobs': None, 'finish_reason': 'length', 'stop_reason': None, 'prompt_logprobs': None}], 'usage': {'prompt_tokens': 8, 'total_tokens': 58, 'completion_tokens': 50, 'prompt_tokens_details': None}}\n",
      "Sending request 10\n",
      "Prompt: What is the tallest mountain in the world?\n",
      "Response: {'id': 'cmpl-5cf0f5af51ac404f93837b42f5bbcb57', 'object': 'text_completion', 'created': 1738578644, 'model': '/models/Mistral-7B-Instruct-v0.3-quantized.w8a16', 'choices': [{'index': 0, 'text': '\\n\\nMount Everest is located in the Himalayas and with a height of 8,848 metres (29,029 feet) above sea level is considered the tallest mountain in the world.\\n\\nThe', 'logprobs': None, 'finish_reason': 'length', 'stop_reason': None, 'prompt_logprobs': None}], 'usage': {'prompt_tokens': 11, 'total_tokens': 61, 'completion_tokens': 50, 'prompt_tokens_details': None}}\n",
      "Sending request 11\n",
      "Prompt: What is the smallest country by land area?\n",
      "Response: {'id': 'cmpl-c22f871fb38146e894b7a3a1933db94c', 'object': 'text_completion', 'created': 1738578646, 'model': '/models/Mistral-7B-Instruct-v0.3-quantized.w8a16', 'choices': [{'index': 0, 'text': ' The smallest country by land area is Vatican City at 110 acres, which is roughly 0.2 square miles or 0.44 square kilometers. Vatican City is an independent city-state enclaved', 'logprobs': None, 'finish_reason': 'length', 'stop_reason': None, 'prompt_logprobs': None}], 'usage': {'prompt_tokens': 10, 'total_tokens': 60, 'completion_tokens': 50, 'prompt_tokens_details': None}}\n",
      "Sending request 12\n",
      "Prompt: What is the longest river in the world?\n",
      "Response: {'id': 'cmpl-5a06e34023214e70a0f6ef28347e92b3', 'object': 'text_completion', 'created': 1738578648, 'model': '/models/Mistral-7B-Instruct-v0.3-quantized.w8a16', 'choices': [{'index': 0, 'text': ' The Amazon River is the longest river in the world. The Amazon River which spans 4,345 miles/6,630 kilometers with its tributaries and reaches up to 7,000 kilometers if', 'logprobs': None, 'finish_reason': 'length', 'stop_reason': None, 'prompt_logprobs': None}], 'usage': {'prompt_tokens': 10, 'total_tokens': 60, 'completion_tokens': 50, 'prompt_tokens_details': None}}\n",
      "Sending request 13\n",
      "Prompt: Who discovered penicillin?\n",
      "Response: {'id': 'cmpl-7578241a87c749f5982460e64df53a00', 'object': 'text_completion', 'created': 1738578650, 'model': '/models/Mistral-7B-Instruct-v0.3-quantized.w8a16', 'choices': [{'index': 0, 'text': '\\n\\nAlexander Fleming\\nScientist Alexander Fleming was responsible for discovering penicillin, a natural antibacterial substance, in 1928. A Scottish biologist, Fleming had been working', 'logprobs': None, 'finish_reason': 'length', 'stop_reason': None, 'prompt_logprobs': None}], 'usage': {'prompt_tokens': 8, 'total_tokens': 58, 'completion_tokens': 50, 'prompt_tokens_details': None}}\n",
      "Sending request 14\n",
      "Prompt: What is the capital of Japan?\n",
      "Response: {'id': 'cmpl-a8d82e1219f3443d8e9a944feed98bce', 'object': 'text_completion', 'created': 1738578652, 'model': '/models/Mistral-7B-Instruct-v0.3-quantized.w8a16', 'choices': [{'index': 0, 'text': ' Tokyo is the capital and the most famous city in Japan, but the administrative capital is Tokyo, not the city. Tokyo is officially a part of the prefecture of Tokyo. In 1888, Tokyo became the capital of Japan.', 'logprobs': None, 'finish_reason': 'length', 'stop_reason': None, 'prompt_logprobs': None}], 'usage': {'prompt_tokens': 8, 'total_tokens': 58, 'completion_tokens': 50, 'prompt_tokens_details': None}}\n",
      "Sending request 15\n",
      "Prompt: What is the currency of the United Kingdom?\n",
      "Response: {'id': 'cmpl-ee6b6416f1b3439d95f6f95e7db099fc', 'object': 'text_completion', 'created': 1738578653, 'model': '/models/Mistral-7B-Instruct-v0.3-quantized.w8a16', 'choices': [{'index': 0, 'text': ' The United Kingdom uses the sterling pound (GBP or £). It’s critical to be aware of the currency for both international travelers and domestic residents in the United Kingdom.\\n\\nThe United Kingdom’s currency is not characterized by the', 'logprobs': None, 'finish_reason': 'length', 'stop_reason': None, 'prompt_logprobs': None}], 'usage': {'prompt_tokens': 10, 'total_tokens': 60, 'completion_tokens': 50, 'prompt_tokens_details': None}}\n"
     ]
    }
   ],
   "source": [
    "\n",
    "# Send 15 different requests\n",
    "for i, prompt in enumerate(prompts):\n",
    "    print(f\"Sending request {i + 1}\")\n",
    "    send_request(prompt)"
   ]
  },
  {
   "cell_type": "code",
   "execution_count": 30,
   "metadata": {},
   "outputs": [],
   "source": []
  },
  {
   "cell_type": "code",
   "execution_count": null,
   "metadata": {},
   "outputs": [],
   "source": []
  },
  {
   "cell_type": "code",
   "execution_count": null,
   "metadata": {},
   "outputs": [],
   "source": []
  }
 ],
 "metadata": {
  "kernelspec": {
   "display_name": "Python 3",
   "language": "python",
   "name": "python3"
  },
  "language_info": {
   "codemirror_mode": {
    "name": "ipython",
    "version": 3
   },
   "file_extension": ".py",
   "mimetype": "text/x-python",
   "name": "python",
   "nbconvert_exporter": "python",
   "pygments_lexer": "ipython3",
   "version": "3.11.8"
  }
 },
 "nbformat": 4,
 "nbformat_minor": 2
}
